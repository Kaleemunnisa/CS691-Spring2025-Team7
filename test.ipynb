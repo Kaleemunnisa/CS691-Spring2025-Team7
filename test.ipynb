{
  "nbformat": 4,
  "nbformat_minor": 0,
  "metadata": {
    "colab": {
      "provenance": []
    },
    "kernelspec": {
      "name": "python3",
      "display_name": "Python 3"
    },
    "language_info": {
      "name": "python"
    }
  },
  "cells": [
    {
      "cell_type": "code",
      "execution_count": 1,
      "metadata": {
        "colab": {
          "base_uri": "https://localhost:8080/"
        },
        "id": "J1qqMaLkgqO7",
        "outputId": "92dc58cf-7875-43f3-b22f-578cf6153446"
      },
      "outputs": [
        {
          "output_type": "stream",
          "name": "stdout",
          "text": [
            "Team-7\n"
          ]
        }
      ],
      "source": [
        "print(\"Team-7\")"
      ]
    }
  ]
}